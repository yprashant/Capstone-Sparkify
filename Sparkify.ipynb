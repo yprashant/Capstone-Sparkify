{
 "cells": [
  {
   "cell_type": "markdown",
   "metadata": {},
   "source": [
    "# Sparkify Project Workspace\n",
    "This workspace contains a tiny subset (128MB) of the full dataset available (12GB). Feel free to use this workspace to build your project, or to explore a smaller subset with Spark before deploying your cluster on the cloud. Instructions for setting up your Spark cluster is included in the last lesson of the Extracurricular Spark Course content.\n",
    "\n",
    "You can follow the steps below to guide your data analysis and model building portion of this project."
   ]
  },
  {
   "cell_type": "code",
   "execution_count": 3,
   "metadata": {},
   "outputs": [],
   "source": [
    "\n",
    "# import libraries\n",
    "import pyspark\n",
    "from pyspark import SparkConf\n",
    "from pyspark.sql import SparkSession\n",
    "from pyspark.sql.types import StringType\n",
    "from pyspark.sql.types import IntegerType\n",
    "from pyspark.sql.functions import isnan, count, when, col, desc, udf, col, sort_array, asc, avg, sum as Fsum\n",
    "from pyspark.sql import Window\n",
    "import datetime\n",
    "import pandas as pd\n",
    "import numpy as np\n",
    "%matplotlib inline\n",
    "import matplotlib.pyplot as plt\n",
    "import seaborn as sns\n",
    "from pyspark.ml.feature import VectorAssembler, StandardScaler\n",
    "from pyspark.ml.classification import LogisticRegression, DecisionTreeClassifier, RandomForestClassifier, \\\n",
    "    GBTClassifier, LinearSVC, NaiveBayes\n",
    "from pyspark.ml import Pipeline\n",
    "from pyspark.ml.evaluation import MulticlassClassificationEvaluator\n",
    "from pyspark.ml.tuning import ParamGridBuilder, CrossValidator\n",
    "from pyspark.mllib.linalg import SparseVector, DenseVector\n"
   ]
  },
  {
   "cell_type": "code",
   "execution_count": 4,
   "metadata": {},
   "outputs": [
    {
     "data": {
      "text/plain": [
       "[('spark.app.id', 'local-1582682880276'),\n",
       " ('spark.sql.catalogImplementation', 'hive'),\n",
       " ('spark.driver.port', '34467'),\n",
       " ('spark.rdd.compress', 'True'),\n",
       " ('spark.app.name', 'Sparkify'),\n",
       " ('spark.serializer.objectStreamReset', '100'),\n",
       " ('spark.master', 'local[*]'),\n",
       " ('spark.executor.id', 'driver'),\n",
       " ('spark.submit.deployMode', 'client'),\n",
       " ('spark.ui.showConsoleProgress', 'true'),\n",
       " ('spark.driver.host', 'ac3d10d4028a')]"
      ]
     },
     "execution_count": 4,
     "metadata": {},
     "output_type": "execute_result"
    }
   ],
   "source": [
    "# create a Spark session\n",
    "# config parameter required in order to allow table creation\n",
    "#  cf. https://stackoverflow.com/questions/54967186/cannot-create-table-with-spark-sql-hive-support-is-required-to-create-hive-tab\n",
    "spark = SparkSession \\\n",
    "    .builder \\\n",
    "    .appName(\"Sparkify\") \\\n",
    "    .config(\"spark.sql.catalogImplementation\",\"hive\") \\\n",
    "    .getOrCreate()\n",
    "\n",
    "\n",
    "# display Spark session info\n",
    "spark.sparkContext.getConf().getAll()"
   ]
  },
  {
   "cell_type": "code",
   "execution_count": 5,
   "metadata": {},
   "outputs": [
    {
     "data": {
      "text/html": [
       "\n",
       "            <div>\n",
       "                <p><b>SparkSession - hive</b></p>\n",
       "                \n",
       "        <div>\n",
       "            <p><b>SparkContext</b></p>\n",
       "\n",
       "            <p><a href=\"http://ac3d10d4028a:4040\">Spark UI</a></p>\n",
       "\n",
       "            <dl>\n",
       "              <dt>Version</dt>\n",
       "                <dd><code>v2.4.3</code></dd>\n",
       "              <dt>Master</dt>\n",
       "                <dd><code>local[*]</code></dd>\n",
       "              <dt>AppName</dt>\n",
       "                <dd><code>Sparkify</code></dd>\n",
       "            </dl>\n",
       "        </div>\n",
       "        \n",
       "            </div>\n",
       "        "
      ],
      "text/plain": [
       "<pyspark.sql.session.SparkSession at 0x7f1e58b69710>"
      ]
     },
     "execution_count": 5,
     "metadata": {},
     "output_type": "execute_result"
    }
   ],
   "source": [
    "# display Spark version info\n",
    "spark"
   ]
  },
  {
   "cell_type": "markdown",
   "metadata": {},
   "source": [
    "# Load and Clean Dataset\n",
    "In this workspace, the mini-dataset file is `mini_sparkify_event_data.json`. Load and clean the dataset, checking for invalid or missing data - for example, records without userids or sessionids. "
   ]
  },
  {
   "cell_type": "code",
   "execution_count": 6,
   "metadata": {},
   "outputs": [],
   "source": [
    "# load dataset\n",
    "path = \"mini_sparkify_event_data.json\"\n",
    "user_log = spark.read.json(path)\n",
    "user_log.createOrReplaceTempView(\"user_log_table\")"
   ]
  },
  {
   "cell_type": "code",
   "execution_count": 7,
   "metadata": {},
   "outputs": [
    {
     "name": "stdout",
     "output_type": "stream",
     "text": [
      "+-------------+---------+-------+\n",
      "|     col_name|data_type|comment|\n",
      "+-------------+---------+-------+\n",
      "|       artist|   string|   null|\n",
      "|         auth|   string|   null|\n",
      "|    firstName|   string|   null|\n",
      "|       gender|   string|   null|\n",
      "|itemInSession|   bigint|   null|\n",
      "|     lastName|   string|   null|\n",
      "|       length|   double|   null|\n",
      "|        level|   string|   null|\n",
      "|     location|   string|   null|\n",
      "|       method|   string|   null|\n",
      "|         page|   string|   null|\n",
      "| registration|   bigint|   null|\n",
      "|    sessionId|   bigint|   null|\n",
      "|         song|   string|   null|\n",
      "|       status|   bigint|   null|\n",
      "|           ts|   bigint|   null|\n",
      "|    userAgent|   string|   null|\n",
      "|       userId|   string|   null|\n",
      "+-------------+---------+-------+\n",
      "\n"
     ]
    }
   ],
   "source": [
    "# display dataset fields\n",
    "spark.sql(\"DESC user_log_table\").show()"
   ]
  },
  {
   "cell_type": "code",
   "execution_count": 8,
   "metadata": {},
   "outputs": [
    {
     "data": {
      "text/plain": [
       "[Row(artist='Martha Tilston', auth='Logged In', firstName='Colin', gender='M', itemInSession=50, lastName='Freeman', length=277.89016, level='paid', location='Bakersfield, CA', method='PUT', page='NextSong', registration=1538173362000, sessionId=29, song='Rockpools', status=200, ts=1538352117000, userAgent='Mozilla/5.0 (Windows NT 6.1; WOW64; rv:31.0) Gecko/20100101 Firefox/31.0', userId='30'),\n",
       " Row(artist='Five Iron Frenzy', auth='Logged In', firstName='Micah', gender='M', itemInSession=79, lastName='Long', length=236.09424, level='free', location='Boston-Cambridge-Newton, MA-NH', method='PUT', page='NextSong', registration=1538331630000, sessionId=8, song='Canada', status=200, ts=1538352180000, userAgent='\"Mozilla/5.0 (Windows NT 6.1; WOW64) AppleWebKit/537.36 (KHTML, like Gecko) Chrome/37.0.2062.103 Safari/537.36\"', userId='9'),\n",
       " Row(artist='Adam Lambert', auth='Logged In', firstName='Colin', gender='M', itemInSession=51, lastName='Freeman', length=282.8273, level='paid', location='Bakersfield, CA', method='PUT', page='NextSong', registration=1538173362000, sessionId=29, song='Time For Miracles', status=200, ts=1538352394000, userAgent='Mozilla/5.0 (Windows NT 6.1; WOW64; rv:31.0) Gecko/20100101 Firefox/31.0', userId='30'),\n",
       " Row(artist='Enigma', auth='Logged In', firstName='Micah', gender='M', itemInSession=80, lastName='Long', length=262.71302, level='free', location='Boston-Cambridge-Newton, MA-NH', method='PUT', page='NextSong', registration=1538331630000, sessionId=8, song='Knocking On Forbidden Doors', status=200, ts=1538352416000, userAgent='\"Mozilla/5.0 (Windows NT 6.1; WOW64) AppleWebKit/537.36 (KHTML, like Gecko) Chrome/37.0.2062.103 Safari/537.36\"', userId='9'),\n",
       " Row(artist='Daft Punk', auth='Logged In', firstName='Colin', gender='M', itemInSession=52, lastName='Freeman', length=223.60771, level='paid', location='Bakersfield, CA', method='PUT', page='NextSong', registration=1538173362000, sessionId=29, song='Harder Better Faster Stronger', status=200, ts=1538352676000, userAgent='Mozilla/5.0 (Windows NT 6.1; WOW64; rv:31.0) Gecko/20100101 Firefox/31.0', userId='30')]"
      ]
     },
     "execution_count": 8,
     "metadata": {},
     "output_type": "execute_result"
    }
   ],
   "source": [
    "\n",
    "# display a few sample records\n",
    "spark.sql(\"SELECT * FROM user_log_table LIMIT 5\").collect()"
   ]
  },
  {
   "cell_type": "code",
   "execution_count": 9,
   "metadata": {},
   "outputs": [
    {
     "name": "stdout",
     "output_type": "stream",
     "text": [
      "+------------+\n",
      "|totalEntries|\n",
      "+------------+\n",
      "|      286500|\n",
      "+------------+\n",
      "\n"
     ]
    }
   ],
   "source": [
    "# count number of records\n",
    "spark.sql(\"SELECT COUNT(*) AS totalEntries FROM user_log_table\").show()"
   ]
  },
  {
   "cell_type": "code",
   "execution_count": 10,
   "metadata": {},
   "outputs": [
    {
     "name": "stdout",
     "output_type": "stream",
     "text": [
      "+----------------+\n",
      "|totalNullEntries|\n",
      "+----------------+\n",
      "|               0|\n",
      "+----------------+\n",
      "\n"
     ]
    }
   ],
   "source": [
    "# are there any null userId or sessionId?\n",
    "spark.sql(\"SELECT COUNT(*) AS totalNullEntries FROM user_log_table WHERE userId IS NULL OR sessionId IS NULL\").show()"
   ]
  },
  {
   "cell_type": "code",
   "execution_count": 11,
   "metadata": {},
   "outputs": [
    {
     "name": "stdout",
     "output_type": "stream",
     "text": [
      "+------+\n",
      "|userId|\n",
      "+------+\n",
      "|      |\n",
      "|    10|\n",
      "|   100|\n",
      "|100001|\n",
      "|100002|\n",
      "|100003|\n",
      "|100004|\n",
      "|100005|\n",
      "|100006|\n",
      "|100007|\n",
      "|100008|\n",
      "|100009|\n",
      "|100010|\n",
      "|100011|\n",
      "|100012|\n",
      "|100013|\n",
      "|100014|\n",
      "|100015|\n",
      "|100016|\n",
      "|100017|\n",
      "+------+\n",
      "only showing top 20 rows\n",
      "\n"
     ]
    }
   ],
   "source": [
    "\n",
    "# display userIds\n",
    "spark.sql(\"SELECT DISTINCT userId FROM user_log_table ORDER BY userId\").show()"
   ]
  },
  {
   "cell_type": "code",
   "execution_count": 12,
   "metadata": {},
   "outputs": [
    {
     "name": "stdout",
     "output_type": "stream",
     "text": [
      "+-----------------+\n",
      "|totalValidEntries|\n",
      "+-----------------+\n",
      "|           278154|\n",
      "+-----------------+\n",
      "\n"
     ]
    }
   ],
   "source": [
    "# only keep userIds which are not empty and count them\n",
    "user_log_valid = spark.sql(\"SELECT * FROM user_log_table WHERE userId != ''\")\n",
    "user_log_valid.createOrReplaceTempView(\"user_log_valid_table\")\n",
    "spark.sql(\"SELECT COUNT(*) AS totalValidEntries FROM user_log_valid_table\").show()"
   ]
  },
  {
   "cell_type": "markdown",
   "metadata": {},
   "source": [
    "# Exploratory Data Analysis\n",
    "When you're working with the full dataset, perform EDA by loading a small subset of the data and doing basic manipulations within Spark. In this workspace, you are already provided a small subset of data you can explore.\n",
    "\n",
    "### Define Churn\n",
    "\n",
    "Once you've done some preliminary analysis, create a column `Churn` to use as the label for your model. I suggest using the `Cancellation Confirmation` events to define your churn, which happen for both paid and free users. As a bonus task, you can also look into the `Downgrade` events.\n",
    "\n",
    "### Explore Data\n",
    "Once you've defined churn, perform some exploratory data analysis to observe the behavior for users who stayed vs users who churned. You can start by exploring aggregates on these two groups of users, observing how much of a specific action they experienced per a certain time unit or number of songs played."
   ]
  },
  {
   "cell_type": "code",
   "execution_count": 13,
   "metadata": {},
   "outputs": [
    {
     "name": "stdout",
     "output_type": "stream",
     "text": [
      "+--------+\n",
      "|count(1)|\n",
      "+--------+\n",
      "|       0|\n",
      "+--------+\n",
      "\n"
     ]
    }
   ],
   "source": [
    "# is there any status different from 'free' or 'paid'?\n",
    "spark.sql(\"SELECT COUNT(*) FROM user_log_valid_table WHERE status<>'free' AND status<>'paid'\").show()"
   ]
  },
  {
   "cell_type": "code",
   "execution_count": 14,
   "metadata": {},
   "outputs": [
    {
     "name": "stdout",
     "output_type": "stream",
     "text": [
      "+--------------------+\n",
      "|                page|\n",
      "+--------------------+\n",
      "|               About|\n",
      "|          Add Friend|\n",
      "|     Add to Playlist|\n",
      "|              Cancel|\n",
      "|Cancellation Conf...|\n",
      "|           Downgrade|\n",
      "|               Error|\n",
      "|                Help|\n",
      "|                Home|\n",
      "|              Logout|\n",
      "|            NextSong|\n",
      "|         Roll Advert|\n",
      "|       Save Settings|\n",
      "|            Settings|\n",
      "|    Submit Downgrade|\n",
      "|      Submit Upgrade|\n",
      "|         Thumbs Down|\n",
      "|           Thumbs Up|\n",
      "|             Upgrade|\n",
      "+--------------------+\n",
      "\n"
     ]
    }
   ],
   "source": [
    "# display all visited pages\n",
    "spark.sql(\"SELECT DISTINCT page FROM user_log_valid_table ORDER BY page\").show()"
   ]
  },
  {
   "cell_type": "code",
   "execution_count": 15,
   "metadata": {},
   "outputs": [
    {
     "name": "stdout",
     "output_type": "stream",
     "text": [
      "+---------+---------------+--------------------+\n",
      "|sessionId|           page|                song|\n",
      "+---------+---------------+--------------------+\n",
      "|      291|           Home|                null|\n",
      "|      304|           Home|                null|\n",
      "|      304|       NextSong|Maybe I'll Come Down|\n",
      "|      304|       NextSong|         Burndt Jamb|\n",
      "|      304|      Thumbs Up|                null|\n",
      "|      304|       NextSong|             Soldier|\n",
      "|      304|       NextSong|        Make Her Say|\n",
      "|      304|       NextSong|Adventures In A Y...|\n",
      "|      304|       NextSong|      Sweet About Me|\n",
      "|      304|       NextSong|From Across The W...|\n",
      "|      304|       NextSong|The Spirits Withi...|\n",
      "|      304|       NextSong|You Ain't Seen No...|\n",
      "|      304|       NextSong|       She Loves You|\n",
      "|      304|      Thumbs Up|                null|\n",
      "|      304|       NextSong|    Deeply Disturbed|\n",
      "|      304|       NextSong|   Health And Wealth|\n",
      "|      304|    Roll Advert|                null|\n",
      "|      304|       NextSong|          The Dragon|\n",
      "|      304|       NextSong|Banquet (Phones D...|\n",
      "|      304|       NextSong|               Outro|\n",
      "|      304|       NextSong|    Drops Of Jupiter|\n",
      "|      304|       NextSong|Coming Into Los A...|\n",
      "|      304|       NextSong|          Earthquake|\n",
      "|      304|       NextSong| This Legend Forever|\n",
      "|      304|       NextSong|          By The Way|\n",
      "|      304|       NextSong|            Thriller|\n",
      "|      304|       NextSong|        Pretty Wings|\n",
      "|      304|       NextSong|           Waiting 4|\n",
      "|      304|    Thumbs Down|                null|\n",
      "|      422|       NextSong|Hey Daddy (Daddy'...|\n",
      "|      422|    Roll Advert|                null|\n",
      "|      433|       NextSong|We're All In This...|\n",
      "|      433|       NextSong|Recado Falado (Me...|\n",
      "|      433|       NextSong|   Stoppin' The Love|\n",
      "|      433|       NextSong|               Paris|\n",
      "|      433|       NextSong|   I Gotta Get Drunk|\n",
      "|      433|       NextSong|          What's Up?|\n",
      "|      433|       NextSong|              Demons|\n",
      "|      433|    Roll Advert|                null|\n",
      "|      433|       NextSong|         Deconstruct|\n",
      "|      433|       NextSong|Saying Sorry (Alb...|\n",
      "|      433|       NextSong|    The Space We Are|\n",
      "|      433|       NextSong|The Downfall Of U...|\n",
      "|      433|Add to Playlist|                null|\n",
      "|      433|       NextSong|The More I See Yo...|\n",
      "|      433|       NextSong|     Dreaming Of You|\n",
      "|      433|       NextSong|    Somebody To Love|\n",
      "|      433|       NextSong|Blackpool Tower S...|\n",
      "|      433|         Logout|                null|\n",
      "|      433|           Home|                null|\n",
      "+---------+---------------+--------------------+\n",
      "only showing top 50 rows\n",
      "\n"
     ]
    }
   ],
   "source": [
    "# display logged actions for a sample user\n",
    "spark.sql(\"SELECT sessionId, page, song FROM user_log_valid_table WHERE userId = '42' ORDER BY sessionId, itemInSession\").show(50)"
   ]
  },
  {
   "cell_type": "code",
   "execution_count": 16,
   "metadata": {},
   "outputs": [
    {
     "name": "stdout",
     "output_type": "stream",
     "text": [
      "+-----+-----+-------+\n",
      "|total| zero|nonzero|\n",
      "+-----+-----+-------+\n",
      "|65416|64903|    513|\n",
      "+-----+-----+-------+\n",
      "\n"
     ]
    }
   ],
   "source": [
    "# can we have different lengths for the same song? 'nonzero' captures these cases\n",
    "spark.sql('''SELECT COUNT(*) AS total,\n",
    "    SUM (CASE WHEN diff = 0 THEN 1 ELSE 0 END) zero,\n",
    "    SUM (CASE WHEN diff != 0 THEN 1 ELSE 0 END) nonzero\n",
    "    FROM (SELECT artist, song, MAX(length)-MIN(length) AS diff\n",
    "        FROM user_log_valid_table\n",
    "        WHERE song IS NOT NULL\n",
    "        GROUP BY artist, song)''').show()"
   ]
  },
  {
   "cell_type": "code",
   "execution_count": 17,
   "metadata": {},
   "outputs": [
    {
     "name": "stdout",
     "output_type": "stream",
     "text": [
      "+------+----+\n",
      "|length|diff|\n",
      "+------+----+\n",
      "+------+----+\n",
      "\n"
     ]
    }
   ],
   "source": [
    "\n",
    "# do users have possibility to skip a song?\n",
    "# This is done by measuring time difference between two 'NextSong' pages for the same user and session,\n",
    "# and comparing it with song length; in case a song could be skipped, this should be returned as a result below\n",
    "spark.sql('''SELECT a.length, (MIN(b.ts)-a.ts)/1000-a.length AS diff\n",
    "    FROM user_log_valid_table a\n",
    "    INNER JOIN user_log_valid_table b\n",
    "        ON (b.userId = a.userId AND b.sessionId = a.sessionId AND b.page = \"NextSong\" AND b.ts > a.ts)\n",
    "    WHERE a.page = \"NextSong\"\n",
    "    GROUP BY a.userId, a.sessionId, a.ts, a.length\n",
    "    HAVING diff < -1''').show()"
   ]
  },
  {
   "cell_type": "code",
   "execution_count": 18,
   "metadata": {},
   "outputs": [
    {
     "name": "stdout",
     "output_type": "stream",
     "text": [
      "+--------------------+--------+\n",
      "|                page|maxCount|\n",
      "+--------------------+--------+\n",
      "|               About|      25|\n",
      "|          Add Friend|     143|\n",
      "|     Add to Playlist|     240|\n",
      "|              Cancel|       1|\n",
      "|Cancellation Conf...|       1|\n",
      "|           Downgrade|      73|\n",
      "|               Error|       7|\n",
      "|                Help|      46|\n",
      "|                Home|     355|\n",
      "|              Logout|     124|\n",
      "|            NextSong|    8002|\n",
      "|         Roll Advert|     128|\n",
      "|       Save Settings|      10|\n",
      "|            Settings|      52|\n",
      "|    Submit Downgrade|       3|\n",
      "|      Submit Upgrade|       4|\n",
      "|         Thumbs Down|      75|\n",
      "|           Thumbs Up|     437|\n",
      "|             Upgrade|      15|\n",
      "+--------------------+--------+\n",
      "\n"
     ]
    }
   ],
   "source": [
    "# how often does a user visit each page?\n",
    "spark.sql('''SELECT page, MAX(cnt) maxCount\n",
    "    FROM (SELECT userId, page, COUNT(*) cnt\n",
    "        FROM user_log_valid_table\n",
    "        GROUP BY userId, page)\n",
    "    GROUP BY page\n",
    "    ORDER BY page''').show()"
   ]
  },
  {
   "cell_type": "code",
   "execution_count": 19,
   "metadata": {},
   "outputs": [],
   "source": [
    "# get max timestamp (this is to compute timeRegistered below)\n",
    "max_ts = spark.sql(\"SELECT MAX(ts) FROM user_log_valid_table\").collect()[0][0]"
   ]
  },
  {
   "cell_type": "code",
   "execution_count": 21,
   "metadata": {},
   "outputs": [],
   "source": [
    "\n",
    "# we build several temporary tables: first users_pages captures count of users' visits of relevant pages\n",
    "users_pages = spark.sql('''CREATE TABLE users_pages_table2 AS\n",
    "    (SELECT DISTINCT(userId),\n",
    "    (SELECT COUNT(*) FROM user_log_valid_table b WHERE b.page=\"Cancellation Confirmation\" AND b.userId=a.userId) AS churned,\n",
    "    (SELECT (CASE WHEN COUNT(*)>0 THEN 1 ELSE 0 END) FROM user_log_valid_table b WHERE b.page=\"Submit Downgrade\" AND b.userId=a.userId) AS downgraded,\n",
    "    (SELECT (CASE WHEN COUNT(*)>0 THEN 1 ELSE 0 END) FROM user_log_valid_table b WHERE b.page=\"Submit Upgrade\" AND b.userId=a.userId) AS upgraded,\n",
    "    (SELECT COUNT(*) FROM user_log_valid_table b WHERE b.page=\"NextSong\" AND b.userId=a.userId) AS nbSongs,\n",
    "    (SELECT COUNT(*) FROM user_log_valid_table b WHERE b.page=\"Roll Advert\" AND b.userId=a.userId) AS nbAdverts,\n",
    "    (SELECT COUNT(*) FROM user_log_valid_table b WHERE b.page=\"Thumbs Up\" AND b.userId=a.userId) AS thumbsUp,\n",
    "    (SELECT COUNT(*) FROM user_log_valid_table b WHERE b.page=\"Thumbs Down\" AND b.userId=a.userId) AS thumbsDown,\n",
    "    (SELECT COUNT(*) FROM user_log_valid_table b WHERE b.page=\"Add to Playlist\" AND b.userId=a.userId) AS addToPlaylist,\n",
    "    (SELECT COUNT(*) FROM user_log_valid_table b WHERE b.page=\"Add Friend\" AND b.userId=a.userId) AS addFriend\n",
    "    FROM user_log_valid_table a)''')"
   ]
  },
  {
   "cell_type": "code",
   "execution_count": 22,
   "metadata": {},
   "outputs": [],
   "source": [
    "\n",
    "# then users_agents captures users' operating systems\n",
    "users_agents = spark.sql('''CREATE TABLE users_agents_table2 AS\n",
    "    (SELECT DISTINCT(userId),\n",
    "    (SELECT (CASE WHEN COUNT(*)>0 THEN 1 ELSE 0 END) FROM user_log_valid_table b WHERE b.userId=a.userId AND userAgent LIKE '%Windows%') AS windows,\n",
    "    (SELECT (CASE WHEN COUNT(*)>0 THEN 1 ELSE 0 END) FROM user_log_valid_table b WHERE b.userId=a.userId AND userAgent LIKE '%Mac%') AS mac,\n",
    "    (SELECT (CASE WHEN COUNT(*)>0 THEN 1 ELSE 0 END) FROM user_log_valid_table b WHERE b.userId=a.userId AND userAgent LIKE '%Linux%') AS linux\n",
    "    FROM user_log_valid_table a)''')"
   ]
  },
  {
   "cell_type": "code",
   "execution_count": 23,
   "metadata": {},
   "outputs": [],
   "source": [
    "# then users_others captures other relevant fields (gender, level, timeRegisterd, nbSessions)\n",
    "users_others = spark.sql('''CREATE TABLE users_others_table2 AS\n",
    "    (SELECT DISTINCT(userId),\n",
    "    (SELECT (CASE WHEN FIRST(gender)='M' THEN 0 ELSE 1 END) gender FROM user_log_valid_table b WHERE b.userId=a.userId) AS gender,\n",
    "    (SELECT (CASE WHEN LAST(level)='free' THEN 0 ELSE 1 END) FROM user_log_valid_table b WHERE b.userId=a.userId) AS level,\n",
    "    (SELECT ('''+str(max_ts)+'''-FIRST(registration))/1000/60/60 FROM user_log_valid_table b WHERE b.userId=a.userId) AS timeRegistered,\n",
    "    (SELECT COUNT(DISTINCT(sessionId)) FROM user_log_valid_table b WHERE b.userId=a.userId) AS nbSessions\n",
    "    FROM user_log_valid_table a)''')"
   ]
  },
  {
   "cell_type": "code",
   "execution_count": 24,
   "metadata": {},
   "outputs": [],
   "source": [
    "# we now combine all three temporary tables to get the features that will be used by our model\n",
    "# and also export results in a Pandas dataframe\n",
    "users = spark.sql('''SELECT churned, downgraded, upgraded, nbSongs/nbSessions AS nbSongsPerSession,\n",
    "    nbAdverts/nbSessions AS nbAdvertsPerSession, thumbsUp/nbSongs AS thumbsUpPerSong,\n",
    "    thumbsDown/nbSongs AS thumbsDownPerSong, addToPlaylist/nbSongs AS addToPlaylistPerSong,\n",
    "    addFriend/nbSessions AS addFriendsPerSession, windows, mac, linux, gender, level, timeRegistered\n",
    "    FROM users_pages_table2 a, users_agents_table2 b, users_others_table2 c\n",
    "    WHERE a.userId = b.userId AND b.userId = c.userId''')\n",
    "users.createOrReplaceTempView(\"users_table\")\n",
    "users_df = users.toPandas()"
   ]
  },
  {
   "cell_type": "code",
   "execution_count": 25,
   "metadata": {},
   "outputs": [
    {
     "data": {
      "image/png": "[encoded data removed]",
      "text/plain": [
       "<matplotlib.figure.Figure at 0x7f1e58b69be0>"
      ]
     },
     "metadata": {
      "needs_background": "light"
     },
     "output_type": "display_data"
    }
   ],
   "source": [
    "\n",
    "# to analyze our features, we define a basic score as:\n",
    "# score = average for churned users - average for non-churned users\n",
    "#       / max (average for churned users, average for non-churned users)\n",
    "# we plot it for the features we retained\n",
    "cmp_df = users_df.groupby(['churned']).mean()\n",
    "for i in cmp_df.columns:\n",
    "    cmp_df.at['diff',i] = cmp_df[i][1]-cmp_df[i][0]\n",
    "    cmp_df.at['diff',i] /= max(cmp_df[i][0],cmp_df[i][1])\n",
    "cmp_df.drop([0,1],inplace=True)\n",
    "cmp_df.sort_values(by=['diff'],axis=1,inplace=True)\n",
    "\n",
    "# https://www.drawingfromdata.com/how-to-rotate-axis-labels-in-seaborn-and-matplotlib\n",
    "plt.figure(figsize=(12,7))\n",
    "chart = sns.barplot(data=cmp_df,palette='rainbow')\n",
    "chart.set_xticklabels(\n",
    "    chart.get_xticklabels(), \n",
    "    rotation=45, \n",
    "    horizontalalignment='right',\n",
    "    fontsize='large'\n",
    ")\n",
    "chart.set_yticks(np.arange(-0.3,0.61,0.1))\n",
    "plt.show()"
   ]
  },
  {
   "cell_type": "markdown",
   "metadata": {},
   "source": [
    "# Feature Engineering\n",
    "Once you've familiarized yourself with the data, build out the features you find promising to train your model on. To work with the full dataset, you can follow the following steps.\n",
    "- Write a script to extract the necessary features from the smaller subset of data\n",
    "- Ensure that your script is scalable, using the best practices discussed in Lesson 3\n",
    "- Try your script on the full data set, debugging your script if necessary\n",
    "\n",
    "If you are working in the classroom workspace, you can just extract features based on the small subset of data contained here. Be sure to transfer over this work to the larger dataset when you work on your Spark cluster."
   ]
  },
  {
   "cell_type": "code",
   "execution_count": 27,
   "metadata": {},
   "outputs": [
    {
     "data": {
      "text/plain": [
       "DataFrame[]"
      ]
     },
     "execution_count": 27,
     "metadata": {},
     "output_type": "execute_result"
    }
   ],
   "source": [
    "csv_path = 'features.csv'\n",
    "# we now write the output in a CSV file so that we don't need to repeat the above steps\n",
    "users.write.mode('overwrite').save(csv_path, format='csv', header=True)\n",
    "# we can now remove our temporary tables\n",
    "spark.sql(\"DROP TABLE users_pages_table2\")\n",
    "spark.sql(\"DROP TABLE users_agents_table2\")\n",
    "spark.sql(\"DROP TABLE users_others_table2\")\n"
   ]
  },
  {
   "cell_type": "code",
   "execution_count": 29,
   "metadata": {},
   "outputs": [],
   "source": [
    "# load features from file; inferSchema option is required to retrieve numbers rather than strings\n",
    "users = spark.read.csv(csv_path, header=True, inferSchema = True)"
   ]
  },
  {
   "cell_type": "markdown",
   "metadata": {},
   "source": [
    "# Modeling\n",
    "Split the full dataset into train, test, and validation sets. Test out several of the machine learning methods you learned. Evaluate the accuracy of the various models, tuning parameters as necessary. Determine your winning model based on test accuracy and report results on the validation set. Since the churned users are a fairly small subset, I suggest using F1 score as the metric to optimize."
   ]
  },
  {
   "cell_type": "code",
   "execution_count": 31,
   "metadata": {},
   "outputs": [],
   "source": [
    "\n",
    "# extract prediction columns (all except 'churned'), and split data into train and test sets\n",
    "pred_cols = users.columns\n",
    "pred_cols.remove('churned')\n",
    "train, test = users.randomSplit([0.75, 0.25],seed=123)"
   ]
  },
  {
   "cell_type": "code",
   "execution_count": 32,
   "metadata": {},
   "outputs": [],
   "source": [
    "\n",
    "# create assembler and scaler for our pipeline; we choose F1 score for evaluator as suggested\n",
    "assembler = VectorAssembler(inputCols=pred_cols, outputCol='assembled')\n",
    "scaler = StandardScaler(inputCol='assembled', outputCol='scaled')\n",
    "evaluator = MulticlassClassificationEvaluator(labelCol='churned', predictionCol='prediction', metricName='f1')\n",
    "scores = []"
   ]
  },
  {
   "cell_type": "code",
   "execution_count": 33,
   "metadata": {},
   "outputs": [],
   "source": [
    "# create pipeline with logistic regression classifier, using default settings, train model and measure score against test\n",
    "logistic_regression_classifier = LogisticRegression(featuresCol='scaled', labelCol='churned')\n",
    "pipeline = Pipeline(stages=[assembler, scaler, logistic_regression_classifier])\n",
    "model = pipeline.fit(train)\n",
    "preds = model.transform(test)\n",
    "scores.append(['Logistic Regression', evaluator.evaluate(preds)])"
   ]
  },
  {
   "cell_type": "code",
   "execution_count": 34,
   "metadata": {},
   "outputs": [],
   "source": [
    "# same for decision tree\n",
    "decision_tree_classifier = DecisionTreeClassifier(featuresCol='scaled', labelCol='churned')\n",
    "pipeline = Pipeline(stages=[assembler, scaler, decision_tree_classifier])\n",
    "model = pipeline.fit(train)\n",
    "preds = model.transform(test)\n",
    "scores.append(['Decision Tree', evaluator.evaluate(preds)])"
   ]
  },
  {
   "cell_type": "code",
   "execution_count": 35,
   "metadata": {},
   "outputs": [],
   "source": [
    "# and random forest\n",
    "random_forest_classifier = RandomForestClassifier(featuresCol='scaled', labelCol='churned')\n",
    "pipeline = Pipeline(stages=[assembler, scaler, random_forest_classifier])\n",
    "model = pipeline.fit(train)\n",
    "preds = model.transform(test)\n",
    "scores.append(['Random Forest', evaluator.evaluate(preds)])"
   ]
  },
  {
   "cell_type": "code",
   "execution_count": 36,
   "metadata": {},
   "outputs": [],
   "source": [
    "\n",
    "# and GBT\n",
    "gbt_classifier = GBTClassifier(featuresCol='scaled', labelCol='churned')\n",
    "pipeline = Pipeline(stages=[assembler, scaler, gbt_classifier])\n",
    "model = pipeline.fit(train)\n",
    "preds = model.transform(test)\n",
    "scores.append(['GBT', evaluator.evaluate(preds)])"
   ]
  },
  {
   "cell_type": "code",
   "execution_count": 37,
   "metadata": {},
   "outputs": [],
   "source": [
    "# and linear SVC\n",
    "linear_svc_classifier = LinearSVC(featuresCol='scaled', labelCol='churned')\n",
    "pipeline = Pipeline(stages=[assembler, scaler, linear_svc_classifier])\n",
    "model = pipeline.fit(train)\n",
    "preds = model.transform(test)\n",
    "scores.append(['Linear SVC', evaluator.evaluate(preds)])"
   ]
  },
  {
   "cell_type": "code",
   "execution_count": 38,
   "metadata": {},
   "outputs": [],
   "source": [
    "# and naive Bayes\n",
    "naive_bayes_classifier = NaiveBayes(featuresCol='scaled', labelCol='churned')\n",
    "pipeline = Pipeline(stages=[assembler, scaler, naive_bayes_classifier])\n",
    "model = pipeline.fit(train)\n",
    "preds = model.transform(test)\n",
    "scores.append(['Naive Bayes', evaluator.evaluate(preds)])"
   ]
  },
  {
   "cell_type": "code",
   "execution_count": 39,
   "metadata": {},
   "outputs": [
    {
     "data": {
      "image/png": "[encoded data removed]",
      "text/plain": [
       "<matplotlib.figure.Figure at 0x7f1e55ca1e10>"
      ]
     },
     "metadata": {
      "needs_background": "light"
     },
     "output_type": "display_data"
    }
   ],
   "source": [
    "\n",
    "# we can now plot scores for all models and compare them\n",
    "scores_df = pd.DataFrame(scores,columns=['Classifier', 'F1 Score'])\n",
    "plt.figure(figsize=(7,7))\n",
    "chart = sns.barplot(x='Classifier',y='F1 Score',data=scores_df,palette='rainbow')\n",
    "chart.set_xticklabels(\n",
    "    chart.get_xticklabels(), \n",
    "    rotation=45, \n",
    "    horizontalalignment='right',\n",
    "    fontsize='large'\n",
    ")\n",
    "chart.set_yticks(np.arange(0,0.81,0.1))\n",
    "plt.show()"
   ]
  },
  {
   "cell_type": "code",
   "execution_count": 40,
   "metadata": {},
   "outputs": [
    {
     "data": {
      "image/png": "[encoded data removed]",
      "text/plain": [
       "<matplotlib.figure.Figure at 0x7f1e55ca1d30>"
      ]
     },
     "metadata": {
      "needs_background": "light"
     },
     "output_type": "display_data"
    }
   ],
   "source": [
    "# let's now try to fine tune parameters for our random forest model using a grid search\n",
    "# then plot the results\n",
    "pipeline = Pipeline(stages=[assembler, scaler, random_forest_classifier])\n",
    "\n",
    "param_grid = ParamGridBuilder()\\\n",
    ".addGrid(random_forest_classifier.maxDepth, [3,5,10])\\\n",
    ".addGrid(random_forest_classifier.maxBins, [16,32,48])\\\n",
    ".addGrid(random_forest_classifier.numTrees, [20,30,40])\\\n",
    ".build()\n",
    "\n",
    "cv = CrossValidator(estimator=pipeline,\n",
    "                    estimatorParamMaps = param_grid, \n",
    "                    evaluator = evaluator,\n",
    "                    numFolds=4)\n",
    "model = cv.fit(train)\n",
    "preds = model.transform(test)\n",
    "scores.append(['Random Forest (Optimized)', evaluator.evaluate(preds)])\n",
    "scores_df = pd.DataFrame(scores,columns=['Classifier', 'F1 Score'])\n",
    "plt.figure(figsize=(7,7))\n",
    "chart = sns.barplot(x='Classifier',y='F1 Score',data=scores_df,palette='rainbow')\n",
    "chart.set_xticklabels(\n",
    "    chart.get_xticklabels(), \n",
    "    rotation=45, \n",
    "    horizontalalignment='right',\n",
    "    fontsize='large'\n",
    ")\n",
    "chart.set_yticks(np.arange(0,0.81,0.1))\n",
    "plt.show()"
   ]
  },
  {
   "cell_type": "code",
   "execution_count": 41,
   "metadata": {},
   "outputs": [
    {
     "data": {
      "text/html": [
       "<div>\n",
       "<style scoped>\n",
       "    .dataframe tbody tr th:only-of-type {\n",
       "        vertical-align: middle;\n",
       "    }\n",
       "\n",
       "    .dataframe tbody tr th {\n",
       "        vertical-align: top;\n",
       "    }\n",
       "\n",
       "    .dataframe thead th {\n",
       "        text-align: right;\n",
       "    }\n",
       "</style>\n",
       "<table border=\"1\" class=\"dataframe\">\n",
       "  <thead>\n",
       "    <tr style=\"text-align: right;\">\n",
       "      <th></th>\n",
       "      <th>Classifier</th>\n",
       "      <th>F1 Score</th>\n",
       "    </tr>\n",
       "  </thead>\n",
       "  <tbody>\n",
       "    <tr>\n",
       "      <th>0</th>\n",
       "      <td>Logistic Regression</td>\n",
       "      <td>0.690670</td>\n",
       "    </tr>\n",
       "    <tr>\n",
       "      <th>1</th>\n",
       "      <td>Decision Tree</td>\n",
       "      <td>0.617591</td>\n",
       "    </tr>\n",
       "    <tr>\n",
       "      <th>2</th>\n",
       "      <td>Random Forest</td>\n",
       "      <td>0.690670</td>\n",
       "    </tr>\n",
       "    <tr>\n",
       "      <th>3</th>\n",
       "      <td>GBT</td>\n",
       "      <td>0.628548</td>\n",
       "    </tr>\n",
       "    <tr>\n",
       "      <th>4</th>\n",
       "      <td>Linear SVC</td>\n",
       "      <td>0.707475</td>\n",
       "    </tr>\n",
       "    <tr>\n",
       "      <th>5</th>\n",
       "      <td>Naive Bayes</td>\n",
       "      <td>0.673224</td>\n",
       "    </tr>\n",
       "    <tr>\n",
       "      <th>6</th>\n",
       "      <td>Random Forest (Optimized)</td>\n",
       "      <td>0.690670</td>\n",
       "    </tr>\n",
       "  </tbody>\n",
       "</table>\n",
       "</div>"
      ],
      "text/plain": [
       "                  Classifier  F1 Score\n",
       "0        Logistic Regression  0.690670\n",
       "1              Decision Tree  0.617591\n",
       "2              Random Forest  0.690670\n",
       "3                        GBT  0.628548\n",
       "4                 Linear SVC  0.707475\n",
       "5                Naive Bayes  0.673224\n",
       "6  Random Forest (Optimized)  0.690670"
      ]
     },
     "execution_count": 41,
     "metadata": {},
     "output_type": "execute_result"
    }
   ],
   "source": [
    "# same in table format\n",
    "scores_df"
   ]
  },
  {
   "cell_type": "code",
   "execution_count": 42,
   "metadata": {},
   "outputs": [
    {
     "data": {
      "image/png": "[encoded data removed]",
      "text/plain": [
       "<matplotlib.figure.Figure at 0x7f1e8442b5f8>"
      ]
     },
     "metadata": {
      "needs_background": "light"
     },
     "output_type": "display_data"
    }
   ],
   "source": [
    "# now let's retrieve feature importance for our optimized model and plot them\n",
    "feat_imp = DenseVector(model.bestModel.stages[2].featureImportances).values\n",
    "\n",
    "# http://scienceoss.com/sort-one-list-by-another-list/\n",
    "feat_imp_sorted = np.array(feat_imp)\n",
    "pred_cols_sorted = np.array(pred_cols)\n",
    "inds = np.flipud(feat_imp_sorted.argsort())\n",
    "pred_cols_sorted = pred_cols_sorted[inds]\n",
    "feat_imp_sorted = feat_imp_sorted[inds]\n",
    "\n",
    "plt.figure(figsize=(12,7))\n",
    "chart = sns.barplot(x=pred_cols_sorted,y=feat_imp_sorted,palette='rainbow')\n",
    "chart.set_xticklabels(\n",
    "    chart.get_xticklabels(), \n",
    "    rotation=45, \n",
    "    horizontalalignment='right',\n",
    "    fontsize='large'\n",
    ")\n",
    "plt.show()"
   ]
  },
  {
   "cell_type": "code",
   "execution_count": 43,
   "metadata": {},
   "outputs": [
    {
     "data": {
      "text/plain": [
       "{Param(parent='RandomForestClassifier_61baa537da73', name='probabilityCol', doc='Column name for predicted class conditional probabilities. Note: Not all models output well-calibrated probability estimates! These probabilities should be treated as confidences, not precise probabilities.'): 'probability',\n",
       " Param(parent='RandomForestClassifier_61baa537da73', name='rawPredictionCol', doc='raw prediction (a.k.a. confidence) column name.'): 'rawPrediction',\n",
       " Param(parent='RandomForestClassifier_61baa537da73', name='seed', doc='random seed.'): -5657253821140074564,\n",
       " Param(parent='RandomForestClassifier_61baa537da73', name='predictionCol', doc='prediction column name.'): 'prediction',\n",
       " Param(parent='RandomForestClassifier_61baa537da73', name='labelCol', doc='label column name.'): 'churned',\n",
       " Param(parent='RandomForestClassifier_61baa537da73', name='featuresCol', doc='features column name.'): 'scaled',\n",
       " Param(parent='RandomForestClassifier_61baa537da73', name='maxDepth', doc='Maximum depth of the tree. (>= 0) E.g., depth 0 means 1 leaf node; depth 1 means 1 internal node + 2 leaf nodes.'): 5,\n",
       " Param(parent='RandomForestClassifier_61baa537da73', name='maxBins', doc='Max number of bins for discretizing continuous features.  Must be >=2 and >= number of categories for any categorical feature.'): 32,\n",
       " Param(parent='RandomForestClassifier_61baa537da73', name='minInstancesPerNode', doc='Minimum number of instances each child must have after split. If a split causes the left or right child to have fewer than minInstancesPerNode, the split will be discarded as invalid. Should be >= 1.'): 1,\n",
       " Param(parent='RandomForestClassifier_61baa537da73', name='minInfoGain', doc='Minimum information gain for a split to be considered at a tree node.'): 0.0,\n",
       " Param(parent='RandomForestClassifier_61baa537da73', name='maxMemoryInMB', doc='Maximum memory in MB allocated to histogram aggregation. If too small, then 1 node will be split per iteration, and its aggregates may exceed this size.'): 256,\n",
       " Param(parent='RandomForestClassifier_61baa537da73', name='cacheNodeIds', doc='If false, the algorithm will pass trees to executors to match instances with nodes. If true, the algorithm will cache node IDs for each instance. Caching can speed up training of deeper trees. Users can set how often should the cache be checkpointed or disable it by setting checkpointInterval.'): False,\n",
       " Param(parent='RandomForestClassifier_61baa537da73', name='checkpointInterval', doc='set checkpoint interval (>= 1) or disable checkpoint (-1). E.g. 10 means that the cache will get checkpointed every 10 iterations. Note: this setting will be ignored if the checkpoint directory is not set in the SparkContext.'): 10,\n",
       " Param(parent='RandomForestClassifier_61baa537da73', name='impurity', doc='Criterion used for information gain calculation (case-insensitive). Supported options: entropy, gini'): 'gini',\n",
       " Param(parent='RandomForestClassifier_61baa537da73', name='numTrees', doc='Number of trees to train (>= 1).'): 20,\n",
       " Param(parent='RandomForestClassifier_61baa537da73', name='featureSubsetStrategy', doc=\"The number of features to consider for splits at each tree node. Supported options: 'auto' (choose automatically for task: If numTrees == 1, set to 'all'. If numTrees > 1 (forest), set to 'sqrt' for classification and to 'onethird' for regression), 'all' (use all features), 'onethird' (use 1/3 of the features), 'sqrt' (use sqrt(number of features)), 'log2' (use log2(number of features)), 'n' (when n is in the range (0, 1.0], use n * number of features. When n is in the range (1, number of features), use n features). default = 'auto'\"): 'auto',\n",
       " Param(parent='RandomForestClassifier_61baa537da73', name='subsamplingRate', doc='Fraction of the training data used for learning each decision tree, in range (0, 1].'): 1.0}"
      ]
     },
     "execution_count": 43,
     "metadata": {},
     "output_type": "execute_result"
    }
   ],
   "source": [
    "# parameters used for our default random forest classifier\n",
    "random_forest_classifier.extractParamMap()"
   ]
  },
  {
   "cell_type": "code",
   "execution_count": 44,
   "metadata": {},
   "outputs": [
    {
     "data": {
      "text/plain": [
       "{Param(parent='RandomForestClassifier_61baa537da73', name='cacheNodeIds', doc='If false, the algorithm will pass trees to executors to match instances with nodes. If true, the algorithm will cache node IDs for each instance. Caching can speed up training of deeper trees.'): False,\n",
       " Param(parent='RandomForestClassifier_61baa537da73', name='checkpointInterval', doc='set checkpoint interval (>= 1) or disable checkpoint (-1). E.g. 10 means that the cache will get checkpointed every 10 iterations. Note: this setting will be ignored if the checkpoint directory is not set in the SparkContext'): 10,\n",
       " Param(parent='RandomForestClassifier_61baa537da73', name='featureSubsetStrategy', doc='The number of features to consider for splits at each tree node. Supported options: auto, all, onethird, sqrt, log2, (0.0-1.0], [1-n].'): 'auto',\n",
       " Param(parent='RandomForestClassifier_61baa537da73', name='featuresCol', doc='features column name'): 'scaled',\n",
       " Param(parent='RandomForestClassifier_61baa537da73', name='impurity', doc='Criterion used for information gain calculation (case-insensitive). Supported options: entropy, gini'): 'gini',\n",
       " Param(parent='RandomForestClassifier_61baa537da73', name='labelCol', doc='label column name'): 'churned',\n",
       " Param(parent='RandomForestClassifier_61baa537da73', name='maxBins', doc='Max number of bins for discretizing continuous features.  Must be >=2 and >= number of categories for any categorical feature.'): 16,\n",
       " Param(parent='RandomForestClassifier_61baa537da73', name='maxDepth', doc='Maximum depth of the tree. (>= 0) E.g., depth 0 means 1 leaf node; depth 1 means 1 internal node + 2 leaf nodes.'): 10,\n",
       " Param(parent='RandomForestClassifier_61baa537da73', name='maxMemoryInMB', doc='Maximum memory in MB allocated to histogram aggregation.'): 256,\n",
       " Param(parent='RandomForestClassifier_61baa537da73', name='minInfoGain', doc='Minimum information gain for a split to be considered at a tree node.'): 0.0,\n",
       " Param(parent='RandomForestClassifier_61baa537da73', name='minInstancesPerNode', doc='Minimum number of instances each child must have after split.  If a split causes the left or right child to have fewer than minInstancesPerNode, the split will be discarded as invalid. Should be >= 1.'): 1,\n",
       " Param(parent='RandomForestClassifier_61baa537da73', name='numTrees', doc='Number of trees to train (>= 1)'): 20,\n",
       " Param(parent='RandomForestClassifier_61baa537da73', name='predictionCol', doc='prediction column name'): 'prediction',\n",
       " Param(parent='RandomForestClassifier_61baa537da73', name='probabilityCol', doc='Column name for predicted class conditional probabilities. Note: Not all models output well-calibrated probability estimates! These probabilities should be treated as confidences, not precise probabilities'): 'probability',\n",
       " Param(parent='RandomForestClassifier_61baa537da73', name='rawPredictionCol', doc='raw prediction (a.k.a. confidence) column name'): 'rawPrediction',\n",
       " Param(parent='RandomForestClassifier_61baa537da73', name='seed', doc='random seed'): -5657253821140074564,\n",
       " Param(parent='RandomForestClassifier_61baa537da73', name='subsamplingRate', doc='Fraction of the training data used for learning each decision tree, in range (0, 1].'): 1.0}"
      ]
     },
     "execution_count": 44,
     "metadata": {},
     "output_type": "execute_result"
    }
   ],
   "source": [
    "# parameters used for our optimized random forest classifier\n",
    "model.bestModel.stages[2].extractParamMap()"
   ]
  },
  {
   "cell_type": "markdown",
   "metadata": {},
   "source": [
    "# Final Steps\n",
    "Clean up your code, adding comments and renaming variables to make the code easier to read and maintain. Refer to the Spark Project Overview page and Data Scientist Capstone Project Rubric to make sure you are including all components of the capstone project and meet all expectations. Remember, this includes thorough documentation in a README file in a Github repository, as well as a web app or blog post."
   ]
  },
  {
   "cell_type": "code",
   "execution_count": null,
   "metadata": {},
   "outputs": [],
   "source": []
  },
  {
   "cell_type": "code",
   "execution_count": null,
   "metadata": {},
   "outputs": [],
   "source": []
  },
  {
   "cell_type": "code",
   "execution_count": null,
   "metadata": {},
   "outputs": [],
   "source": []
  }
 ],
 "metadata": {
  "kernelspec": {
   "display_name": "Python 3",
   "language": "python",
   "name": "python3"
  },
  "language_info": {
   "codemirror_mode": {
    "name": "ipython",
    "version": 3
   },
   "file_extension": ".py",
   "mimetype": "text/x-python",
   "name": "python",
   "nbconvert_exporter": "python",
   "pygments_lexer": "ipython3",
   "version": "3.6.3"
  }
 },
 "nbformat": 4,
 "nbformat_minor": 2
}
